{
 "cells": [
  {
   "cell_type": "code",
   "execution_count": null,
   "metadata": {},
   "outputs": [],
   "source": [
    "import numpy as np\n",
    "#import pandas as pd\n",
    "import scipy.stats\n",
    "import scipy.spatial\n",
    "from sklearn.cross_validation import KFold\n",
    "import random\n",
    "from sklearn.metrics import mean_squared_error\n",
    "from math import sqrt\n",
    "import math\n",
    "import warnings\n",
    "import sys"
   ]
  },
  {
   "cell_type": "code",
   "execution_count": null,
   "metadata": {},
   "outputs": [],
   "source": [
    "warnings.simplefilter(\"error\")\n",
    "users = 6036\n",
    "items= 3952"
   ]
  },
  {
   "cell_type": "code",
   "execution_count": null,
   "metadata": {},
   "outputs": [],
   "source": [
    "def readingfile(filename):\n",
    "    f = open(filename,\"r\")\n",
    "    data = []\n",
    "    for row in f:\n",
    "        r=row.split(\",\")\n",
    "        e =[int(r[0]),int(r[1]),int(r[2])]\n",
    "        data.append(e)\n",
    "    return data\n",
    "recommend_data = readingfile(\"ratings_new.csv\")"
   ]
  },
  {
   "cell_type": "code",
   "execution_count": null,
   "metadata": {},
   "outputs": [],
   "source": [
    "def similarity_user(data):\n",
    "    user_cos_sim = np.zeros((users,users))\n",
    "    user_jac_sim = np.zeros((users,users))\n",
    "    user_pea_sim = np.zeros((users,users))\n",
    "    for user1 in range(users):\n",
    "        for user2 in range(users):\n",
    "            if np.count_nonzero(data[user1]) and np.count_nonzero(data[user2]):\n",
    "                user_cos_sim[user1][user2] = 1- scipy.spatial.distance.cosine(data[user1],data[user2])\n",
    "                user_jac_sim[user1][user2] = 1- scipy.spatial.distance.jaccard(data[user1],data[user2])\n",
    "            try:\n",
    "                if not math.isnan(scipy.stats.pearsonr(data[user1],data[user2])[0]):\n",
    "                    user_pea_sim[user1][user2] = scipy.stats.pearsonr(data[user1],data[user2])[0]\n",
    "                else:\n",
    "                    user_pea_sim[user1][user2] = 0\n",
    "            except:\n",
    "                    user_pea_sim[user1][user2] = 0\n",
    "            #print(str(user1) + \",\" + str(user2) + \",\" + str(user_cos_sim[user1][user2]) + \",\" + str(user_cos_sim[user1][user2]) + \",\" + str(user_pea_sim[user1][user2]) + \"\\n\")       \n",
    "    return user_cos_sim,user_jac_sim,user_pea_sim"
   ]
  },
  {
   "cell_type": "code",
   "execution_count": null,
   "metadata": {},
   "outputs": [],
   "source": [
    "def cross_validation(data):\n",
    "    k_fold = KFold(n=len(data),n_folds =10)\n",
    "    #print(k_fold)\n",
    "    mat=np.zeros((users,items))\n",
    "    for e in data[:1]:\n",
    "        mat[e[0]-1][e[1]-1]=e[2]\n",
    "    user_cos_sim,user_jac_sim,user_pea_sim = similarity_user(mat)\n",
    "    return(mat)\n",
    "\n",
    "cross_data=cross_validation(recommend_data)\n",
    "cross_data"
   ]
  },
  {
   "cell_type": "code",
   "execution_count": null,
   "metadata": {},
   "outputs": [],
   "source": [
    "def predictRating(recommend_data):\n",
    "    M, sim_user = crossValidation(recommend_data)\n",
    "    f = open(sys.argv[2],\"r\")\n",
    "    toBeRated = {\"user\":[], \"item\":[]}\n",
    "    for row in f:\n",
    "        r = row.split(',')\n",
    "        toBeRated[\"item\"].append(int(r[1]))\n",
    "        toBeRated[\"user\"].append(int(r[0]))\n",
    "    f.close()\n",
    "    pred_rate = []\n",
    "    fw_w = open('result1.csv','w')\n",
    "    l = len(toBeRated[\"user\"])\n",
    "    for e in range(l):\n",
    "        user = toBeRated[\"user\"][e]\n",
    "        item = toBeRated[\"item\"][e]\n",
    "        pred = 3.0\n",
    "        #user-based\n",
    "        if np.count_nonzero(M[user-1]):\n",
    "            sim = sim_user[user-1]\n",
    "            ind = (M[:,item-1] > 0)\n",
    "            #ind[user-1] = False\n",
    "            normal = np.sum(np.absolute(sim[ind]))\n",
    "            if normal > 0:\n",
    "                pred = np.dot(sim,M[:,item-1])/normal\n",
    "\n",
    "        if pred < 0:\n",
    "            pred = 0recommend_data = readingfile(\"ratings_new.csv\")\n",
    "predictRating(recommend_data)\n",
    "        if pred > 5:\n",
    "            pred = 5\n",
    "        pred_rate.append(pred)\n",
    "        print str(user) + \",\" + str(item) + \",\" + str(pred)\n",
    "\n",
    "        fw_w.write(str(pred) + \"\\n\")recommend_data = readingfile(\"ratings_new.csv\")\n",
    "predictRating(recommend_data)\n",
    "        fw_w.close()"
   ]
  },
  {
   "cell_type": "code",
   "execution_count": null,
   "metadata": {},
   "outputs": [],
   "source": [
    "predictRating(recommend_data)"
   ]
  },
  {
   "cell_type": "code",
   "execution_count": null,
   "metadata": {
    "collapsed": true
   },
   "outputs": [],
   "source": []
  }
 ],
 "metadata": {
  "kernelspec": {
   "display_name": "Python 3",
   "language": "python",
   "name": "python3"
  },
  "language_info": {
   "codemirror_mode": {
    "name": "ipython",
    "version": 3
   },
   "file_extension": ".py",
   "mimetype": "text/x-python",
   "name": "python",
   "nbconvert_exporter": "python",
   "pygments_lexer": "ipython3",
   "version": "3.6.1"
  }
 },
 "nbformat": 4,
 "nbformat_minor": 2
}
